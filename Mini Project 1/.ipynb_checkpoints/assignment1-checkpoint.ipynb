{
 "cells": [
  {
   "cell_type": "code",
   "execution_count": 4,
   "metadata": {},
   "outputs": [
    {
     "name": "stdout",
     "output_type": "stream",
     "text": [
      "Requirement already satisfied: beautifulsoup4 in /Library/Frameworks/Python.framework/Versions/3.8/lib/python3.8/site-packages (4.9.3)\n",
      "Requirement already satisfied: requests in /Library/Frameworks/Python.framework/Versions/3.8/lib/python3.8/site-packages (2.24.0)\n",
      "Requirement already satisfied: lxml in /Library/Frameworks/Python.framework/Versions/3.8/lib/python3.8/site-packages (4.6.1)\n",
      "Requirement already satisfied: seaborn in /Library/Frameworks/Python.framework/Versions/3.8/lib/python3.8/site-packages (0.11.0)\n",
      "Requirement already satisfied: soupsieve>1.2; python_version >= \"3.0\" in /Library/Frameworks/Python.framework/Versions/3.8/lib/python3.8/site-packages (from beautifulsoup4) (2.0.1)\n",
      "Requirement already satisfied: certifi>=2017.4.17 in /Library/Frameworks/Python.framework/Versions/3.8/lib/python3.8/site-packages (from requests) (2020.11.8)\n",
      "Requirement already satisfied: idna<3,>=2.5 in /Library/Frameworks/Python.framework/Versions/3.8/lib/python3.8/site-packages (from requests) (2.10)\n",
      "Requirement already satisfied: urllib3!=1.25.0,!=1.25.1,<1.26,>=1.21.1 in /Library/Frameworks/Python.framework/Versions/3.8/lib/python3.8/site-packages (from requests) (1.25.11)\n",
      "Requirement already satisfied: chardet<4,>=3.0.2 in /Library/Frameworks/Python.framework/Versions/3.8/lib/python3.8/site-packages (from requests) (3.0.4)\n",
      "Requirement already satisfied: pandas>=0.23 in /Library/Frameworks/Python.framework/Versions/3.8/lib/python3.8/site-packages (from seaborn) (1.1.4)\n",
      "Requirement already satisfied: matplotlib>=2.2 in /Library/Frameworks/Python.framework/Versions/3.8/lib/python3.8/site-packages (from seaborn) (3.3.2)\n",
      "Requirement already satisfied: scipy>=1.0 in /Library/Frameworks/Python.framework/Versions/3.8/lib/python3.8/site-packages (from seaborn) (1.5.4)\n",
      "Requirement already satisfied: numpy>=1.15 in /Library/Frameworks/Python.framework/Versions/3.8/lib/python3.8/site-packages (from seaborn) (1.19.4)\n",
      "Requirement already satisfied: pytz>=2017.2 in /Library/Frameworks/Python.framework/Versions/3.8/lib/python3.8/site-packages (from pandas>=0.23->seaborn) (2020.4)\n",
      "Requirement already satisfied: python-dateutil>=2.7.3 in /Library/Frameworks/Python.framework/Versions/3.8/lib/python3.8/site-packages (from pandas>=0.23->seaborn) (2.8.1)\n",
      "Requirement already satisfied: cycler>=0.10 in /Library/Frameworks/Python.framework/Versions/3.8/lib/python3.8/site-packages (from matplotlib>=2.2->seaborn) (0.10.0)\n",
      "Requirement already satisfied: pyparsing!=2.0.4,!=2.1.2,!=2.1.6,>=2.0.3 in /Library/Frameworks/Python.framework/Versions/3.8/lib/python3.8/site-packages (from matplotlib>=2.2->seaborn) (2.4.7)\n",
      "Requirement already satisfied: pillow>=6.2.0 in /Library/Frameworks/Python.framework/Versions/3.8/lib/python3.8/site-packages (from matplotlib>=2.2->seaborn) (8.0.1)\n",
      "Requirement already satisfied: kiwisolver>=1.0.1 in /Library/Frameworks/Python.framework/Versions/3.8/lib/python3.8/site-packages (from matplotlib>=2.2->seaborn) (1.3.1)\n",
      "Requirement already satisfied: six>=1.5 in /Library/Frameworks/Python.framework/Versions/3.8/lib/python3.8/site-packages (from python-dateutil>=2.7.3->pandas>=0.23->seaborn) (1.15.0)\n"
     ]
    }
   ],
   "source": [
    "import sys\n",
    "!{sys.executable} -m pip install beautifulsoup4 requests lxml seaborn\n",
    "from bs4 import BeautifulSoup\n",
    "from collections import Counter\n",
    "from IPython.display import Image\n",
    "from IPython.core.display import HTML \n",
    "import requests\n",
    "import csv\n",
    "import numpy as np\n",
    "import pandas as pd\n",
    "import seaborn as sns\n",
    "import matplotlib.pyplot as plt\n",
    "%matplotlib inline"
   ]
  },
  {
   "cell_type": "code",
   "execution_count": 6,
   "metadata": {
    "scrolled": true
   },
   "outputs": [
    {
     "data": {
      "text/html": [
       "<div>\n",
       "<style scoped>\n",
       "    .dataframe tbody tr th:only-of-type {\n",
       "        vertical-align: middle;\n",
       "    }\n",
       "\n",
       "    .dataframe tbody tr th {\n",
       "        vertical-align: top;\n",
       "    }\n",
       "\n",
       "    .dataframe thead th {\n",
       "        text-align: right;\n",
       "    }\n",
       "</style>\n",
       "<table border=\"1\" class=\"dataframe\">\n",
       "  <thead>\n",
       "    <tr style=\"text-align: right;\">\n",
       "      <th></th>\n",
       "      <th>title</th>\n",
       "      <th>image</th>\n",
       "      <th>calories</th>\n",
       "      <th>green_points</th>\n",
       "      <th>purple_points</th>\n",
       "      <th>blue_points</th>\n",
       "      <th>summary</th>\n",
       "      <th>keys</th>\n",
       "    </tr>\n",
       "  </thead>\n",
       "  <tbody>\n",
       "    <tr>\n",
       "      <th>0</th>\n",
       "      <td>Chicken Parmesan Rolls</td>\n",
       "      <td>https://www.skinnytaste.com/wp-content/uploads...</td>\n",
       "      <td>259</td>\n",
       "      <td>8</td>\n",
       "      <td>5</td>\n",
       "      <td>5</td>\n",
       "      <td>These protein packed Chicken Parmesan Rolls (a...</td>\n",
       "      <td>[Kid Friendly, Meal Prep Recipes, Under 30 Min...</td>\n",
       "    </tr>\n",
       "    <tr>\n",
       "      <th>1</th>\n",
       "      <td>Herb and Salt-Rubbed Dry Brine Turkey</td>\n",
       "      <td>https://www.skinnytaste.com/wp-content/uploads...</td>\n",
       "      <td>225</td>\n",
       "      <td>2</td>\n",
       "      <td>0</td>\n",
       "      <td>0</td>\n",
       "      <td>This Herb and Salt-Rubbed Dry Brined Turkey co...</td>\n",
       "      <td>[Gluten Free, Keto Recipes, Kid Friendly, Low ...</td>\n",
       "    </tr>\n",
       "    <tr>\n",
       "      <th>2</th>\n",
       "      <td>Turkey Pot Pie with Stuffing Crust</td>\n",
       "      <td>https://www.skinnytaste.com/wp-content/uploads...</td>\n",
       "      <td>390</td>\n",
       "      <td>8</td>\n",
       "      <td>4</td>\n",
       "      <td>4</td>\n",
       "      <td>Turkey Pot Pie with Stuffing Crust is a fun tw...</td>\n",
       "      <td>[]</td>\n",
       "    </tr>\n",
       "    <tr>\n",
       "      <th>3</th>\n",
       "      <td>Lightened Up Green Bean Casserole</td>\n",
       "      <td>https://www.skinnytaste.com/wp-content/uploads...</td>\n",
       "      <td>160</td>\n",
       "      <td>3</td>\n",
       "      <td>3</td>\n",
       "      <td>3</td>\n",
       "      <td>This holiday season enjoy a lighter, healthier...</td>\n",
       "      <td>[Kid Friendly, Vegetarian Meals]</td>\n",
       "    </tr>\n",
       "    <tr>\n",
       "      <th>4</th>\n",
       "      <td>Smashed Sweet Potatoes</td>\n",
       "      <td>https://www.skinnytaste.com/wp-content/uploads...</td>\n",
       "      <td>206</td>\n",
       "      <td>6</td>\n",
       "      <td>2</td>\n",
       "      <td>6</td>\n",
       "      <td>Smashed Sweet Potatoes, seasoned with thyme ar...</td>\n",
       "      <td>[Gluten Free, Kid Friendly, Vegetarian Meals]</td>\n",
       "    </tr>\n",
       "    <tr>\n",
       "      <th>...</th>\n",
       "      <td>...</td>\n",
       "      <td>...</td>\n",
       "      <td>...</td>\n",
       "      <td>...</td>\n",
       "      <td>...</td>\n",
       "      <td>...</td>\n",
       "      <td>...</td>\n",
       "      <td>...</td>\n",
       "    </tr>\n",
       "    <tr>\n",
       "      <th>246</th>\n",
       "      <td>Heather’s Buddha Bowl</td>\n",
       "      <td>https://www.skinnytaste.com/wp-content/uploads...</td>\n",
       "      <td>372</td>\n",
       "      <td>10</td>\n",
       "      <td>4</td>\n",
       "      <td>7</td>\n",
       "      <td>This easy Buddha Bowl is made with roasted bro...</td>\n",
       "      <td>[Dairy Free, Gluten Free, Vegetarian Meals]</td>\n",
       "    </tr>\n",
       "    <tr>\n",
       "      <th>247</th>\n",
       "      <td>How To Make Perfect Hard Boiled Eggs</td>\n",
       "      <td>https://www.skinnytaste.com/wp-content/uploads...</td>\n",
       "      <td>77</td>\n",
       "      <td>2</td>\n",
       "      <td>0</td>\n",
       "      <td>0</td>\n",
       "      <td>Having hard boiled eggs on hand for quick brea...</td>\n",
       "      <td>[Dairy Free, Gluten Free, Keto Recipes, Kid Fr...</td>\n",
       "    </tr>\n",
       "    <tr>\n",
       "      <th>248</th>\n",
       "      <td>Swiss Chard Eggs Benedict</td>\n",
       "      <td>https://www.skinnytaste.com/wp-content/uploads...</td>\n",
       "      <td>244</td>\n",
       "      <td>3</td>\n",
       "      <td>3</td>\n",
       "      <td>4</td>\n",
       "      <td>I love this lighter take on Eggs Benedict made...</td>\n",
       "      <td>[Dairy Free, Gluten Free, Under 30 Minutes]</td>\n",
       "    </tr>\n",
       "    <tr>\n",
       "      <th>249</th>\n",
       "      <td>Shrimp, Peas and Rice</td>\n",
       "      <td>https://www.skinnytaste.com/wp-content/uploads...</td>\n",
       "      <td>346</td>\n",
       "      <td>8</td>\n",
       "      <td>3</td>\n",
       "      <td>8</td>\n",
       "      <td>This Shrimp, Peas and Rice dish is a family fa...</td>\n",
       "      <td>[Gluten Free, Kid Friendly, Under 30 Minutes]</td>\n",
       "    </tr>\n",
       "    <tr>\n",
       "      <th>250</th>\n",
       "      <td>Apricot-Rum Glazed Spiral Ham</td>\n",
       "      <td>https://www.skinnytaste.com/wp-content/uploads...</td>\n",
       "      <td>145</td>\n",
       "      <td>4</td>\n",
       "      <td>4</td>\n",
       "      <td>4</td>\n",
       "      <td>Apricot-Rum Glazed Spiral Ham is perfect for t...</td>\n",
       "      <td>[Dairy Free, Gluten Free, Kid Friendly]</td>\n",
       "    </tr>\n",
       "  </tbody>\n",
       "</table>\n",
       "<p>251 rows × 8 columns</p>\n",
       "</div>"
      ],
      "text/plain": [
       "                                     title  \\\n",
       "0                   Chicken Parmesan Rolls   \n",
       "1    Herb and Salt-Rubbed Dry Brine Turkey   \n",
       "2       Turkey Pot Pie with Stuffing Crust   \n",
       "3        Lightened Up Green Bean Casserole   \n",
       "4                   Smashed Sweet Potatoes   \n",
       "..                                     ...   \n",
       "246                  Heather’s Buddha Bowl   \n",
       "247   How To Make Perfect Hard Boiled Eggs   \n",
       "248              Swiss Chard Eggs Benedict   \n",
       "249                  Shrimp, Peas and Rice   \n",
       "250          Apricot-Rum Glazed Spiral Ham   \n",
       "\n",
       "                                                 image calories green_points  \\\n",
       "0    https://www.skinnytaste.com/wp-content/uploads...      259            8   \n",
       "1    https://www.skinnytaste.com/wp-content/uploads...      225            2   \n",
       "2    https://www.skinnytaste.com/wp-content/uploads...      390            8   \n",
       "3    https://www.skinnytaste.com/wp-content/uploads...      160            3   \n",
       "4    https://www.skinnytaste.com/wp-content/uploads...      206            6   \n",
       "..                                                 ...      ...          ...   \n",
       "246  https://www.skinnytaste.com/wp-content/uploads...      372           10   \n",
       "247  https://www.skinnytaste.com/wp-content/uploads...       77            2   \n",
       "248  https://www.skinnytaste.com/wp-content/uploads...      244            3   \n",
       "249  https://www.skinnytaste.com/wp-content/uploads...      346            8   \n",
       "250  https://www.skinnytaste.com/wp-content/uploads...      145            4   \n",
       "\n",
       "    purple_points blue_points  \\\n",
       "0               5           5   \n",
       "1               0           0   \n",
       "2               4           4   \n",
       "3               3           3   \n",
       "4               2           6   \n",
       "..            ...         ...   \n",
       "246             4           7   \n",
       "247             0           0   \n",
       "248             3           4   \n",
       "249             3           8   \n",
       "250             4           4   \n",
       "\n",
       "                                               summary  \\\n",
       "0    These protein packed Chicken Parmesan Rolls (a...   \n",
       "1    This Herb and Salt-Rubbed Dry Brined Turkey co...   \n",
       "2    Turkey Pot Pie with Stuffing Crust is a fun tw...   \n",
       "3    This holiday season enjoy a lighter, healthier...   \n",
       "4    Smashed Sweet Potatoes, seasoned with thyme ar...   \n",
       "..                                                 ...   \n",
       "246  This easy Buddha Bowl is made with roasted bro...   \n",
       "247  Having hard boiled eggs on hand for quick brea...   \n",
       "248  I love this lighter take on Eggs Benedict made...   \n",
       "249  This Shrimp, Peas and Rice dish is a family fa...   \n",
       "250  Apricot-Rum Glazed Spiral Ham is perfect for t...   \n",
       "\n",
       "                                                  keys  \n",
       "0    [Kid Friendly, Meal Prep Recipes, Under 30 Min...  \n",
       "1    [Gluten Free, Keto Recipes, Kid Friendly, Low ...  \n",
       "2                                                   []  \n",
       "3                     [Kid Friendly, Vegetarian Meals]  \n",
       "4        [Gluten Free, Kid Friendly, Vegetarian Meals]  \n",
       "..                                                 ...  \n",
       "246        [Dairy Free, Gluten Free, Vegetarian Meals]  \n",
       "247  [Dairy Free, Gluten Free, Keto Recipes, Kid Fr...  \n",
       "248        [Dairy Free, Gluten Free, Under 30 Minutes]  \n",
       "249      [Gluten Free, Kid Friendly, Under 30 Minutes]  \n",
       "250            [Dairy Free, Gluten Free, Kid Friendly]  \n",
       "\n",
       "[251 rows x 8 columns]"
      ]
     },
     "execution_count": 6,
     "metadata": {},
     "output_type": "execute_result"
    }
   ],
   "source": [
    "\n",
    "all_posts = []\n",
    "source_string_base = \"https://www.skinnytaste.com/page/\"\n",
    "\n",
    "for x in range(1, 30):\n",
    "    \n",
    "    source = requests.get(source_string_base + str(x)).text\n",
    "    soup = BeautifulSoup(source, 'html.parser')\n",
    "    \n",
    "    for Post in soup.find_all('article', class_='teaser-post'):\n",
    "        \n",
    "        if Post.find('span', class_='icon-star'):\n",
    "            \n",
    "            entry = dict()\n",
    "            entry['title'] = Post.h2.text\n",
    "            entry['image'] = Post.img['src']\n",
    "            entry['calories'] = Post.find('span', class_='icon-star').text\n",
    "            \n",
    "            if Post.find('span', class_='green'):\n",
    "                entry['green_points'] = Post.find('span', class_='green').text\n",
    "            else:\n",
    "                entry['green_points'] = 0\n",
    "            \n",
    "            if Post.find('span', class_='purple'):\n",
    "                entry['purple_points'] = Post.find('span', class_='purple').text\n",
    "            else:\n",
    "                entry['purple_points'] = 0\n",
    "                \n",
    "            if Post.find('span', class_='blue'):\n",
    "                entry['blue_points'] = Post.find('span', class_='blue').text\n",
    "            else:\n",
    "                entry['blue_points'] = 0\n",
    "\n",
    "            entry['summary'] = Post.find('p', class_='excerpt').text\n",
    "            entry['keys'] = []\n",
    "            \n",
    "            for KeyImage in Post.find_all('img', class_='attachment-thumbnail'):\n",
    "                if KeyImage['alt'] not in entry['keys']:\n",
    "                    entry['keys'].append(KeyImage['alt'])\n",
    "                \n",
    "            all_posts.append(entry)\n",
    "\n",
    "\n",
    "columns = ['title', 'image', 'calories', 'green_points', 'purple_points', 'blue_points', 'summary', 'keys']\n",
    "dataFrame = pd.DataFrame(all_posts, columns=columns)\n",
    "dataFrame\n"
   ]
  },
  {
   "cell_type": "code",
   "execution_count": 8,
   "metadata": {},
   "outputs": [
    {
     "data": {
      "text/html": [
       "<div>\n",
       "<style scoped>\n",
       "    .dataframe tbody tr th:only-of-type {\n",
       "        vertical-align: middle;\n",
       "    }\n",
       "\n",
       "    .dataframe tbody tr th {\n",
       "        vertical-align: top;\n",
       "    }\n",
       "\n",
       "    .dataframe thead th {\n",
       "        text-align: right;\n",
       "    }\n",
       "</style>\n",
       "<table border=\"1\" class=\"dataframe\">\n",
       "  <thead>\n",
       "    <tr style=\"text-align: right;\">\n",
       "      <th></th>\n",
       "      <th>calories</th>\n",
       "    </tr>\n",
       "  </thead>\n",
       "  <tbody>\n",
       "    <tr>\n",
       "      <th>count</th>\n",
       "      <td>251.00000</td>\n",
       "    </tr>\n",
       "    <tr>\n",
       "      <th>mean</th>\n",
       "      <td>234.80239</td>\n",
       "    </tr>\n",
       "    <tr>\n",
       "      <th>std</th>\n",
       "      <td>111.36243</td>\n",
       "    </tr>\n",
       "    <tr>\n",
       "      <th>min</th>\n",
       "      <td>15.00000</td>\n",
       "    </tr>\n",
       "    <tr>\n",
       "      <th>25%</th>\n",
       "      <td>151.50000</td>\n",
       "    </tr>\n",
       "    <tr>\n",
       "      <th>50%</th>\n",
       "      <td>228.00000</td>\n",
       "    </tr>\n",
       "    <tr>\n",
       "      <th>75%</th>\n",
       "      <td>299.50000</td>\n",
       "    </tr>\n",
       "    <tr>\n",
       "      <th>max</th>\n",
       "      <td>587.00000</td>\n",
       "    </tr>\n",
       "  </tbody>\n",
       "</table>\n",
       "</div>"
      ],
      "text/plain": [
       "        calories\n",
       "count  251.00000\n",
       "mean   234.80239\n",
       "std    111.36243\n",
       "min     15.00000\n",
       "25%    151.50000\n",
       "50%    228.00000\n",
       "75%    299.50000\n",
       "max    587.00000"
      ]
     },
     "execution_count": 8,
     "metadata": {},
     "output_type": "execute_result"
    }
   ],
   "source": [
    "# Visualize calorie data\n",
    "dataFrame.astype({'calories': 'float'}).describe()\n",
    "low = 0\n",
    "medium = 0\n",
    "high = 0\n",
    "\n",
    "dataFrame['calories'] = dataFrame['calories'].astype(float)\n",
    "\n",
    "for index, item in dataFrame.iterrows():\n",
    "    cal = item['calories']\n",
    "    if cal > 0 and cal < 250:\n",
    "        low = low + 1\n",
    "    if cal > 250 and cal < 500:\n",
    "        medium = medium + 1\n",
    "    if cal > 500:\n",
    "        high = high + 1\n",
    "        \n",
    "low_label = 'Low (0-250) ' + ' (' + str(low) + ')'\n",
    "medium_label = 'Medium (250-500) ' + ' (' + str(medium) + ')'\n",
    "high_label = 'High (500+) ' + ' (' + str(high) + ')'\n",
    "\n",
    "\n",
    "pointFrame = pd.DataFrame({'Calorie Groups': [low, medium, high]}, \n",
    "                          index=[low_label, medium_label, high_label])\n",
    "plot = pointFrame.plot.pie(y='Calorie Groups', figsize=(15, 15), autopct='%1.1f%%')"
   ]
  },
  {
   "cell_type": "code",
   "execution_count": 217,
   "metadata": {
    "scrolled": true
   },
   "outputs": [
    {
     "data": {
      "image/png": "[encoded data removed]",
      "text/plain": [
       "<Figure size 1080x1080 with 1 Axes>"
      ]
     },
     "metadata": {},
     "output_type": "display_data"
    }
   ],
   "source": [
    "# Visualize points data\n",
    "blue = dataFrame['blue_points'].astype(int).sum()\n",
    "purple = dataFrame['purple_points'].astype(int).sum()\n",
    "green= dataFrame['green_points'].astype(int).sum()\n",
    "\n",
    "blue_label = 'Blue' + ' (' + str(blue) + ')'\n",
    "purple_label = 'Purple' + ' (' + str(purple) + ')'\n",
    "green_label = 'Green' + ' (' + str(green) + ')'\n",
    "\n",
    "\n",
    "pointFrame = pd.DataFrame({'Points Distribution': [blue, purple, green]}, \n",
    "                          index=[blue_label, purple_label, green_label])\n",
    "plot = pointFrame.plot.pie(y='Points Distribution', figsize=(15, 15), autopct='%1.1f%%')"
   ]
  },
  {
   "cell_type": "code",
   "execution_count": 218,
   "metadata": {},
   "outputs": [
    {
     "data": {
      "image/png": "[encoded data removed]",
      "text/plain": [
       "<Figure size 1080x720 with 1 Axes>"
      ]
     },
     "metadata": {
      "needs_background": "light"
     },
     "output_type": "display_data"
    }
   ],
   "source": [
    "# Visualize keys data\n",
    "keyFrame = pd.DataFrame(all_posts, columns=['keys'])\n",
    "key_occurance = Counter()\n",
    "\n",
    "for keys in keyFrame['keys']:\n",
    "    key_occurance += Counter(keys)\n",
    "\n",
    "keys = key_occurance.keys()\n",
    "values = key_occurance.values()\n",
    "\n",
    "plt.figure(figsize=(15,10))\n",
    "y_pos = np.arange(len(keys))\n",
    "plt.barh(y_pos, values, align='center')\n",
    "plt.yticks(y_pos, keys)\n",
    "plt.xlabel('Occurrence')\n",
    "plt.title('Meal Key Distibution')\n",
    "plt.show()\n"
   ]
  },
  {
   "cell_type": "code",
   "execution_count": 251,
   "metadata": {},
   "outputs": [
    {
     "name": "stdout",
     "output_type": "stream",
     "text": [
      "Max Calories 500\n",
      "Min Calories 200\n",
      "Max Blue Points 7\n",
      "Min Blue Points 3\n",
      "Max Green Points 3\n",
      "Min Green Points 1\n",
      "Max Purple Points 8\n",
      "Min Purple Points 2\n",
      "\n",
      "RESULTS\n",
      "\n",
      "Title: Roasted Honeynut Squash with Maple and Pecans\n",
      "Summary: Roasted Roasted Honeynut Squash with Maple and Pecans is the perfect fall side dish! Sweeter and smaller than butternut and so much quicker to make. Roasted Honeynut Squash I’m...\n"
     ]
    },
    {
     "data": {
      "text/html": [
       "<img src=\"https://www.skinnytaste.com/wp-content/uploads/2020/10/Roasted-Maple-Pecan-Honeynut-8-260x390.jpg\"/>"
      ],
      "text/plain": [
       "<IPython.core.display.Image object>"
      ]
     },
     "metadata": {},
     "output_type": "display_data"
    },
    {
     "name": "stdout",
     "output_type": "stream",
     "text": [
      "Calories: 205.0\n",
      "Blue points: 3\n",
      "Purple points: 3\n",
      "Green points: 3\n",
      "\n",
      "Title: Crock Pot Picadillo\n",
      "Summary: Crock Pot Picadillo is a flavorful Cuban dish made with ground beef and a sauce made from simmering tomatoes, green olives, bell peppers, cumin, and spices. Picadillo is a...\n"
     ]
    },
    {
     "data": {
      "text/html": [
       "<img src=\"https://www.skinnytaste.com/wp-content/uploads/2013/01/Crockpot-Picadillo-8-260x390.jpg\"/>"
      ],
      "text/plain": [
       "<IPython.core.display.Image object>"
      ]
     },
     "metadata": {},
     "output_type": "display_data"
    },
    {
     "name": "stdout",
     "output_type": "stream",
     "text": [
      "Calories: 207.0\n",
      "Blue points: 3\n",
      "Purple points: 3\n",
      "Green points: 3\n",
      "\n",
      "Title: Cauliflower Gnocchi\n",
      "Summary: This delicious Cauliflower Gnocchi is made with cauliflower instead of traditional potatoes. No need for a Trader Joe’s run – make them from scratch with just three ingredients! Cauliflower...\n"
     ]
    },
    {
     "data": {
      "text/html": [
       "<img src=\"https://www.skinnytaste.com/wp-content/uploads/2020/08/Cauliflower-Gnocchi-11-260x390.jpg\"/>"
      ],
      "text/plain": [
       "<IPython.core.display.Image object>"
      ]
     },
     "metadata": {},
     "output_type": "display_data"
    },
    {
     "name": "stdout",
     "output_type": "stream",
     "text": [
      "Calories: 228.0\n",
      "Blue points: 3\n",
      "Purple points: 3\n",
      "Green points: 3\n",
      "\n",
      "Title: Swiss Chard Eggs Benedict\n",
      "Summary: I love this lighter take on Eggs Benedict made with Canadian bacon, Swiss chard and poached eggs on a whole wheat English muffin. Perfect for breakfast or brunch! Swiss...\n"
     ]
    },
    {
     "data": {
      "text/html": [
       "<img src=\"https://www.skinnytaste.com/wp-content/uploads/2019/03/Swiss-Chard-Eggs-Benedict-8-260x390.jpg\"/>"
      ],
      "text/plain": [
       "<IPython.core.display.Image object>"
      ]
     },
     "metadata": {},
     "output_type": "display_data"
    },
    {
     "name": "stdout",
     "output_type": "stream",
     "text": [
      "Calories: 244.0\n",
      "Blue points: 4\n",
      "Purple points: 3\n",
      "Green points: 3\n",
      "\n"
     ]
    }
   ],
   "source": [
    "# Show results based on user input\n",
    "accepted_results = []\n",
    "max_calories = int(input('Max Calories '))\n",
    "min_calories = int(input('Min Calories '))\n",
    "max_blue = int(input('Max Blue Points '))\n",
    "min_blue = int(input('Min Blue Points '))\n",
    "max_green = int(input('Max Green Points '))\n",
    "min_green = int(input('Min Green Points '))\n",
    "max_purple = int(input('Max Purple Points '))\n",
    "min_purple = int(input('Min Purple Points '))\n",
    "\n",
    "dataFrame['calories'] = dataFrame['calories'].astype(float)\n",
    "sortedFrame = dataFrame.sort_values(by=['calories'], ascending=True)\n",
    "\n",
    "for index, item in sortedFrame.iterrows():\n",
    "    \n",
    "    calories = int(item['calories']);\n",
    "    bp = int(item['blue_points']);\n",
    "    gp = int(item['green_points'])\n",
    "    pp = int(item['purple_points'])\n",
    "    \n",
    "    if calories <= max_calories and calories >= min_calories:\n",
    "        if bp <= max_blue and bp >= min_blue:\n",
    "             if gp <= max_green and gp >= min_green:\n",
    "                    if pp <= max_purple and pp >= min_purple:\n",
    "                        accepted_results.append(item)\n",
    "                        if (len(accepted_results) >= 5):\n",
    "                            break\n",
    "print(\"\")\n",
    "print(\"RESULTS\")\n",
    "print(\"\")\n",
    "for item in accepted_results:\n",
    "    print('Title: ' + item['title'])\n",
    "    print('Summary: ' + item['summary'])\n",
    "    display(Image(url=item['image']))\n",
    "    print('Calories: ' + str(item['calories']))\n",
    "    print('Blue points: ' + str(item['blue_points']))\n",
    "    print('Purple points: ' + str(item['purple_points']))\n",
    "    print('Green points: ' + str(item['green_points']))\n",
    "    print(\"\")\n",
    "                        "
   ]
  },
  {
   "cell_type": "markdown",
   "metadata": {},
   "source": [
    "# "
   ]
  },
  {
   "cell_type": "code",
   "execution_count": null,
   "metadata": {},
   "outputs": [],
   "source": []
  }
 ],
 "metadata": {
  "kernelspec": {
   "display_name": "Python 3",
   "language": "python",
   "name": "python3"
  },
  "language_info": {
   "codemirror_mode": {
    "name": "ipython",
    "version": 3
   },
   "file_extension": ".py",
   "mimetype": "text/x-python",
   "name": "python",
   "nbconvert_exporter": "python",
   "pygments_lexer": "ipython3",
   "version": "3.8.6"
  }
 },
 "nbformat": 4,
 "nbformat_minor": 4
}
